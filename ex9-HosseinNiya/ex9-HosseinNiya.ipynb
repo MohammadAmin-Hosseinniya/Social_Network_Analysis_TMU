{
 "cells": [
  {
   "cell_type": "code",
   "execution_count": 13,
   "metadata": {},
   "outputs": [],
   "source": [
    "from igraph import Graph\n",
    "from igraph import plot\n",
    "\n",
    "graph = Graph.Read_Edgelist(\"karate_data.txt\", directed=False)"
   ]
  },
  {
   "cell_type": "markdown",
   "metadata": {},
   "source": [
    "Finding Structural Equivalance:"
   ]
  },
  {
   "cell_type": "code",
   "execution_count": 14,
   "metadata": {},
   "outputs": [
    {
     "name": "stdout",
     "output_type": "stream",
     "text": [
      "[[0.         0.         0.         ... 0.         0.         0.        ]\n",
      " [0.         1.         0.58333333 ... 0.         0.21650635 0.25      ]\n",
      " [0.         0.58333333 1.         ... 0.13608276 0.19245009 0.25      ]\n",
      " ...\n",
      " [0.         0.         0.13608276 ... 1.         0.11785113 0.20412415]\n",
      " [0.         0.21650635 0.19245009 ... 0.11785113 1.         0.64951905]\n",
      " [0.         0.25       0.25       ... 0.20412415 0.64951905 1.        ]]\n"
     ]
    }
   ],
   "source": [
    "from igraph import Graph\n",
    "from sklearn.metrics.pairwise import cosine_similarity\n",
    "import numpy as np\n",
    "\n",
    "adj_matrix = np.array(graph.get_adjacency().data)\n",
    "equiv_matrix = cosine_similarity(adj_matrix)\n",
    "\n",
    "print(equiv_matrix)"
   ]
  },
  {
   "cell_type": "code",
   "execution_count": 15,
   "metadata": {},
   "outputs": [
    {
     "name": "stdout",
     "output_type": "stream",
     "text": [
      "[15 17 25 23 29 30 27 28 14 16 26 18 12 24 22  0  0 21  1  0 13  0  1 10\n",
      "  8  6 19  7 20 11  9  5  2  4  3]\n",
      "{15: [0], 17: [1], 25: [2], 23: [3], 29: [4], 30: [5], 27: [6], 28: [7], 14: [8], 16: [9], 26: [10], 18: [11], 12: [12], 24: [13], 22: [14], 0: [15, 16, 19, 21], 21: [17], 1: [18, 22], 13: [20], 10: [23], 8: [24], 6: [25], 19: [26], 7: [27], 20: [28], 11: [29], 9: [30], 5: [31], 2: [32], 4: [33], 3: [34]}\n"
     ]
    },
    {
     "name": "stderr",
     "output_type": "stream",
     "text": [
      "c:\\Users\\Asus\\miniconda3\\envs\\quera\\lib\\site-packages\\sklearn\\cluster\\_agglomerative.py:1005: FutureWarning: Attribute `affinity` was deprecated in version 1.2 and will be removed in 1.4. Use `metric` instead\n",
      "  warnings.warn(\n"
     ]
    }
   ],
   "source": [
    "from sklearn.cluster import AgglomerativeClustering\n",
    "\n",
    "agg_clustering = AgglomerativeClustering(n_clusters=None,\n",
    "                                         distance_threshold=0.1,\n",
    "                                         affinity='precomputed',\n",
    "                                         linkage='average')\n",
    "distance_matrix = 1 - equiv_matrix\n",
    "\n",
    "agg_clusters = agg_clustering.fit_predict(distance_matrix)\n",
    "\n",
    "labels = agg_clustering.labels_\n",
    "print(labels)\n",
    "\n",
    "clusters = {}\n",
    "for node_index, cluster_label in enumerate(labels):\n",
    "    if cluster_label not in clusters:\n",
    "        clusters[cluster_label] = []\n",
    "    clusters[cluster_label].append(node_index)\n",
    "\n",
    "# Now, 'clusters' dictionary contains the nodes grouped by their cluster label\n",
    "print(clusters)"
   ]
  },
  {
   "cell_type": "code",
   "execution_count": 22,
   "metadata": {},
   "outputs": [
    {
     "name": "stdout",
     "output_type": "stream",
     "text": [
      "The similarity between the clusters is: 0.0627027027027027\n"
     ]
    }
   ],
   "source": [
    "# Apply community detection using the Louvain method\n",
    "# louvain_communities = graph.community_multilevel()\n",
    "infomap_communities = graph.community_infomap()\n",
    "\n",
    "# Comparison\n",
    "louvain_clusters = louvain_communities.membership\n",
    "\n",
    "def compare_clusters(cluster1, cluster2):\n",
    "    from sklearn.metrics import adjusted_rand_score\n",
    "    score = adjusted_rand_score(cluster1, cluster2)\n",
    "    return score\n",
    "\n",
    "# The higher the score, the more similar the clusterings are\n",
    "comparison_score = compare_clusters(agg_clusters, louvain_clusters)\n",
    "print(f\"The similarity between the clusters is: {comparison_score}\")"
   ]
  }
 ],
 "metadata": {
  "kernelspec": {
   "display_name": "Python 3",
   "language": "python",
   "name": "python3"
  },
  "language_info": {
   "codemirror_mode": {
    "name": "ipython",
    "version": 3
   },
   "file_extension": ".py",
   "mimetype": "text/x-python",
   "name": "python",
   "nbconvert_exporter": "python",
   "pygments_lexer": "ipython3",
   "version": "3.9.18"
  },
  "orig_nbformat": 4
 },
 "nbformat": 4,
 "nbformat_minor": 2
}
