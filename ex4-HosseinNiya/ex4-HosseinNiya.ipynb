{
 "cells": [
  {
   "cell_type": "code",
   "execution_count": 109,
   "metadata": {},
   "outputs": [],
   "source": [
    "import json\n",
    "\n",
    "with open(\"output3.json\", \"r\", encoding='utf-8') as file:\n",
    "    data = json.load(file)\n",
    "file.close()"
   ]
  },
  {
   "cell_type": "code",
   "execution_count": 110,
   "metadata": {},
   "outputs": [],
   "source": [
    "data_copy = data.copy"
   ]
  },
  {
   "cell_type": "code",
   "execution_count": 111,
   "metadata": {},
   "outputs": [],
   "source": [
    "for item in data:\n",
    "    if \"tags\" in item.keys():\n",
    "        item[\"tags\"] = [tag.strip(\"12345()\") for tag in item[\"tags\"]]"
   ]
  },
  {
   "cell_type": "code",
   "execution_count": 112,
   "metadata": {},
   "outputs": [],
   "source": [
    "all_tags = list()\n",
    "\n",
    "for item in data:\n",
    "    if \"tags\" in item.keys():\n",
    "        [all_tags.append(tag) for tag in item[\"tags\"]]"
   ]
  },
  {
   "cell_type": "code",
   "execution_count": 113,
   "metadata": {},
   "outputs": [
    {
     "data": {
      "text/plain": [
       "266"
      ]
     },
     "execution_count": 113,
     "metadata": {},
     "output_type": "execute_result"
    }
   ],
   "source": [
    "all_titles = list()\n",
    "\n",
    "for item in data:\n",
    "        all_titles.append(item[\"title\"])\n",
    "\n",
    "len(all_titles)"
   ]
  },
  {
   "cell_type": "code",
   "execution_count": 114,
   "metadata": {},
   "outputs": [
    {
     "data": {
      "text/plain": [
       "1641"
      ]
     },
     "execution_count": 114,
     "metadata": {},
     "output_type": "execute_result"
    }
   ],
   "source": [
    "all_tags = [element.strip(\"12345()\") for element in all_tags]\n",
    "len(all_tags)"
   ]
  },
  {
   "cell_type": "code",
   "execution_count": 128,
   "metadata": {},
   "outputs": [
    {
     "data": {
      "text/plain": [
       "346"
      ]
     },
     "execution_count": 128,
     "metadata": {},
     "output_type": "execute_result"
    }
   ],
   "source": [
    "unique_tags = list(set(all_tags))\n",
    "len(unique_tags)"
   ]
  },
  {
   "cell_type": "code",
   "execution_count": 119,
   "metadata": {},
   "outputs": [],
   "source": [
    "import numpy as np\n",
    "adjacency_matrix = np.zeros((len(unique_tags), len(unique_tags)))"
   ]
  },
  {
   "cell_type": "code",
   "execution_count": 132,
   "metadata": {},
   "outputs": [],
   "source": [
    "tags_indices = {word:index for index, word in enumerate(unique_tags)}"
   ]
  },
  {
   "cell_type": "code",
   "execution_count": 138,
   "metadata": {},
   "outputs": [],
   "source": [
    "for item in data:\n",
    "    if \"tags\" in item.keys():\n",
    "        for i in range(len(item[\"tags\"])):\n",
    "            for j in range(i+1, len(item[\"tags\"])):\n",
    "                tag1 = item[\"tags\"][i]\n",
    "                tag2 = item[\"tags\"][j]\n",
    "                index1 = tags_indices[tag1]\n",
    "                index2 = tags_indices[tag2]\n",
    "                adjacency_matrix[index1][index2] = 1\n",
    "                adjacency_matrix[index2][index1] = 1"
   ]
  },
  {
   "cell_type": "code",
   "execution_count": 148,
   "metadata": {},
   "outputs": [
    {
     "name": "stdout",
     "output_type": "stream",
     "text": [
      "185\n",
      "215\n",
      "338\n",
      "227\n",
      "292\n",
      "22\n",
      "2\n",
      "219\n",
      "26\n",
      "337\n",
      "42\n",
      "297\n",
      "263\n",
      "41\n",
      "37\n",
      "224\n",
      "176\n",
      "303\n",
      "238\n",
      "107\n",
      "244\n",
      "241\n",
      "125\n",
      "42\n",
      "259\n",
      "218\n",
      "259\n",
      "218\n",
      "74\n",
      "160\n",
      "42\n",
      "32\n",
      "110\n",
      "125\n",
      "194\n",
      "269\n",
      "45\n",
      "151\n",
      "181\n",
      "152\n",
      "164\n",
      "266\n",
      "192\n",
      "294\n",
      "332\n",
      "146\n",
      "44\n",
      "329\n",
      "314\n",
      "190\n",
      "285\n",
      "171\n",
      "24\n",
      "149\n",
      "282\n",
      "70\n",
      "125\n",
      "189\n",
      "76\n",
      "89\n",
      "133\n",
      "155\n",
      "169\n",
      "317\n",
      "46\n",
      "305\n",
      "216\n",
      "141\n",
      "222\n",
      "126\n",
      "25\n",
      "7\n",
      "63\n",
      "78\n",
      "223\n",
      "135\n",
      "89\n",
      "133\n",
      "155\n",
      "169\n",
      "317\n",
      "46\n",
      "305\n",
      "216\n",
      "141\n",
      "222\n",
      "126\n",
      "25\n",
      "7\n",
      "63\n",
      "78\n",
      "223\n",
      "135\n",
      "89\n",
      "133\n",
      "155\n",
      "169\n",
      "317\n",
      "46\n",
      "305\n",
      "216\n",
      "141\n",
      "222\n",
      "126\n",
      "25\n",
      "7\n",
      "63\n",
      "78\n",
      "223\n",
      "135\n",
      "19\n",
      "322\n",
      "237\n",
      "119\n",
      "287\n",
      "19\n",
      "322\n",
      "237\n",
      "119\n",
      "287\n",
      "19\n",
      "322\n",
      "237\n",
      "119\n",
      "287\n",
      "19\n",
      "322\n",
      "237\n",
      "119\n",
      "287\n",
      "19\n",
      "322\n",
      "237\n",
      "119\n",
      "287\n",
      "304\n",
      "35\n",
      "111\n",
      "141\n",
      "122\n",
      "178\n",
      "276\n",
      "5\n",
      "57\n",
      "178\n",
      "276\n",
      "5\n",
      "57\n",
      "78\n"
     ]
    },
    {
     "ename": "KeyError",
     "evalue": "'tags'",
     "output_type": "error",
     "traceback": [
      "\u001b[1;31m---------------------------------------------------------------------------\u001b[0m",
      "\u001b[1;31mKeyError\u001b[0m                                  Traceback (most recent call last)",
      "Cell \u001b[1;32mIn[148], line 2\u001b[0m\n\u001b[0;32m      1\u001b[0m \u001b[39mfor\u001b[39;00m item \u001b[39min\u001b[39;00m data:\n\u001b[1;32m----> 2\u001b[0m     \u001b[39mfor\u001b[39;00m tag \u001b[39min\u001b[39;00m item[\u001b[39m\"\u001b[39;49m\u001b[39mtags\u001b[39;49m\u001b[39m\"\u001b[39;49m]:\n\u001b[0;32m      3\u001b[0m         \u001b[39mprint\u001b[39m(unique_tags\u001b[39m.\u001b[39mindex(tag))\n",
      "\u001b[1;31mKeyError\u001b[0m: 'tags'"
     ]
    }
   ],
   "source": [
    "for item in data:\n",
    "    for tag in item[\"tags\"]:\n",
    "        print(unique_tags.index(tag))"
   ]
  },
  {
   "cell_type": "code",
   "execution_count": 151,
   "metadata": {},
   "outputs": [],
   "source": [
    "file_path = 'adjacency_matrix.txt'\n",
    "np.savetxt(file_path, adjacency_matrix, fmt='%d')"
   ]
  }
 ],
 "metadata": {
  "kernelspec": {
   "display_name": "Python 3",
   "language": "python",
   "name": "python3"
  },
  "language_info": {
   "codemirror_mode": {
    "name": "ipython",
    "version": 3
   },
   "file_extension": ".py",
   "mimetype": "text/x-python",
   "name": "python",
   "nbconvert_exporter": "python",
   "pygments_lexer": "ipython3",
   "version": "3.9.18"
  },
  "orig_nbformat": 4
 },
 "nbformat": 4,
 "nbformat_minor": 2
}
