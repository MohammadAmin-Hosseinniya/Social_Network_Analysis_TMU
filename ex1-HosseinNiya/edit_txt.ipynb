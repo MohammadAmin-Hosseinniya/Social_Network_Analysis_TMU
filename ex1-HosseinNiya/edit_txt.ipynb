{
 "cells": [
  {
   "cell_type": "code",
   "execution_count": 3,
   "metadata": {},
   "outputs": [],
   "source": [
    "file_path = \"karate.txt\"\n",
    "new_file_path = \"karate_data.txt\"\n",
    "\n",
    "with open(file_path, \"r\") as file:                      # to read previous file\n",
    "    with open(new_file_path, \"w\") as new_file:          # to write new file\n",
    "        lines = file.readlines()\n",
    "        for line in lines:\n",
    "            new_file.write(line.replace(\",\", \" \") + \"\\n\")   # to replace \",\" with space\n",
    "\n",
    "file.close()\n",
    "new_file.close()"
   ]
  },
  {
   "cell_type": "code",
   "execution_count": null,
   "metadata": {},
   "outputs": [],
   "source": []
  }
 ],
 "metadata": {
  "kernelspec": {
   "display_name": "Python 3",
   "language": "python",
   "name": "python3"
  },
  "language_info": {
   "codemirror_mode": {
    "name": "ipython",
    "version": 3
   },
   "file_extension": ".py",
   "mimetype": "text/x-python",
   "name": "python",
   "nbconvert_exporter": "python",
   "pygments_lexer": "ipython3",
   "version": "3.9.17"
  },
  "orig_nbformat": 4
 },
 "nbformat": 4,
 "nbformat_minor": 2
}
